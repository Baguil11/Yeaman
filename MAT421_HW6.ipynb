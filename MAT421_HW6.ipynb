{
  "nbformat": 4,
  "nbformat_minor": 0,
  "metadata": {
    "colab": {
      "name": "MAT421-HW6.ipynb",
      "provenance": []
    },
    "kernelspec": {
      "name": "python3",
      "display_name": "Python 3"
    },
    "language_info": {
      "name": "python"
    }
  },
  "cells": [
    {
      "cell_type": "markdown",
      "source": [
        "  Derivatives are used to mark change in a function. Derivatives decrease the order of the function by 1. For example, if a function is y= x^2, the derivative is 2x. The original derivative is called a limit. This is a function that slowly approaches a value but does not exactly. This concept is most important with the topic of continuity. Continuous functions are those that are real for every value and have a derivative that exists in both the left and right direction. This means that the absolute value of a function would not be continuous as there is one value for the derivative instead of two. \n",
        "  Derivatives and their functions can be multiplied by the multiplication and division rules. If a function raised to a power is being derived, the chain rule can be used."
      ],
      "metadata": {
        "id": "WU2XeOuZLU8Q"
      }
    },
    {
      "cell_type": "markdown",
      "source": [
        "Optimizations exist to minimize or maximize the effect of a function. Typically this is easily performed by taking the derivative of a fucntion and setting it equal to zero. This gives you an indicator for what value of 'x' gives you zero. This would be an example of a global minimization."
      ],
      "metadata": {
        "id": "dZ7_G9n2IJlx"
      }
    }
  ]
}