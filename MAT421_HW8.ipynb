{
  "nbformat": 4,
  "nbformat_minor": 0,
  "metadata": {
    "colab": {
      "name": "MAT421-HW8.ipynb",
      "provenance": []
    },
    "kernelspec": {
      "name": "python3",
      "display_name": "Python 3"
    },
    "language_info": {
      "name": "python"
    }
  },
  "cells": [
    {
      "cell_type": "markdown",
      "source": [
        "The integra is usually descibed as the area under the curve. In physics for example, the area under a velocity vs time gaph is the distance traveled. There are different techniques used to estimate the integral of a curve. As it can be difficult to estimate a curve, rectangles and trapezoids can be used at defined intervals. Below the Riemanns sum can be sued to estimate the area including the left, right and midpoints. The code calculates the left sum by multiplying the height (h) by the sum of the intervals. The same process is done for the right sum except that the intervals start from the beginning. The midpoint is the left and right divided by 2."
      ],
      "metadata": {
        "id": "8b0gtdknkR8X"
      }
    },
    {
      "cell_type": "code",
      "execution_count": 1,
      "metadata": {
        "id": "cKC8PK7iV0p_",
        "colab": {
          "base_uri": "https://localhost:8080/"
        },
        "outputId": "356995c8-0fd8-4b81-ab3c-5d333aec6d5e"
      },
      "outputs": [
        {
          "output_type": "stream",
          "name": "stdout",
          "text": [
            "1.9835235375094546\n",
            "0.01647646249054535\n",
            "1.9835235375094546\n",
            "0.01647646249054535\n",
            "2.0082484079079745\n",
            "-0.008248407907974542\n"
          ]
        }
      ],
      "source": [
        "import numpy as np\n",
        "\n",
        "a = 0\n",
        "b = np.pi\n",
        "n = 11\n",
        "h = (b - a) / (n - 1)\n",
        "x = np.linspace(a, b, n)\n",
        "f = np.sin(x)\n",
        "\n",
        "I_riemannL = h * sum(f[:n-1])\n",
        "err_riemannL = 2 - I_riemannL\n",
        "\n",
        "I_riemannR = h * sum(f[1::])\n",
        "err_riemannR = 2 - I_riemannR\n",
        "\n",
        "I_mid = h * sum(np.sin((x[:n-1] \\\n",
        "        + x[1:])/2))\n",
        "err_mid = 2 - I_mid\n",
        "\n",
        "print(I_riemannL)\n",
        "print(err_riemannL)\n",
        "\n",
        "print(I_riemannR)\n",
        "print(err_riemannR)\n",
        "\n",
        "print(I_mid)\n",
        "print(err_mid)"
      ]
    },
    {
      "cell_type": "markdown",
      "source": [
        "The Trapezoid rule follows the same concept as the Riemanns sum and employs the equation used for a trapezoid. It takes the first value, last value, and all values in a set interval multiplied by the h/2."
      ],
      "metadata": {
        "id": "kPFiwHzhlW0r"
      }
    },
    {
      "cell_type": "code",
      "source": [
        "import numpy as np\n",
        "\n",
        "a = 0\n",
        "b = np.pi\n",
        "n = 11\n",
        "h = (b - a) / (n - 1)\n",
        "x = np.linspace(a, b, n)\n",
        "f = np.sin(x)\n",
        "\n",
        "I_trap = (h/2)*(f[0] + \\\n",
        "          2 * sum(f[1:n-1]) + f[n-1])\n",
        "err_trap = 2 - I_trap\n",
        "\n",
        "print(I_trap)\n",
        "print(err_trap)"
      ],
      "metadata": {
        "id": "vvYYQ1LDlXic"
      },
      "execution_count": null,
      "outputs": []
    }
  ]
}