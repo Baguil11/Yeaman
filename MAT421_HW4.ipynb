{
  "nbformat": 4,
  "nbformat_minor": 0,
  "metadata": {
    "colab": {
      "name": "MAT421-HW4.ipynb",
      "provenance": []
    },
    "kernelspec": {
      "name": "python3",
      "display_name": "Python 3"
    },
    "language_info": {
      "name": "python"
    }
  },
  "cells": [
    {
      "cell_type": "markdown",
      "source": [
        "Roots are normally fairly simle to find. However for some problems that do not contain a root, an estimation for the root as close to zero is performed instead. An example is given below in which an estimation is given for cos(x)-x"
      ],
      "metadata": {
        "id": "zr-oftoWChah"
      }
    },
    {
      "cell_type": "code",
      "execution_count": 1,
      "metadata": {
        "id": "xoieFhUkcJbN",
        "colab": {
          "base_uri": "https://localhost:8080/"
        },
        "outputId": "54c1982e-ef59-4478-cfbd-c419c68f424b"
      },
      "outputs": [
        {
          "output_type": "stream",
          "name": "stdout",
          "text": [
            "r = [0.73908513]\n",
            "result= [1.11022302e-16]\n"
          ]
        }
      ],
      "source": [
        "import numpy as np\n",
        "from scipy import optimize\n",
        "\n",
        "f = lambda x: np.cos(x) - x\n",
        "r = optimize.fsolve(f, 5)\n",
        "print(\"r =\", r)\n",
        "\n",
        "# Verify the solution is a root\n",
        "result = f(r)\n",
        "print(\"result=\", result)"
      ]
    },
    {
      "cell_type": "markdown",
      "source": [
        "Tolerance is an engineering idea that compares the inherent error in a fucntion and the acceptable level of error or tolerance. Root finding can be used to iteratively find the point at which the error is acceptable by subtracting the x+1 to x and denoting the error."
      ],
      "metadata": {
        "id": "eRZ2_6g-C5kH"
      }
    },
    {
      "cell_type": "markdown",
      "source": [
        "Along the lines of root finding is the idea of the bisection method. The bisection method compares f(a) and f(b) and tests whether they are equal. If not, then we know there is a f(c) that is between the two. "
      ],
      "metadata": {
        "id": "_uA7O6w2HHOD"
      }
    },
    {
      "cell_type": "code",
      "source": [
        "import numpy as np\n",
        "\n",
        "def my_bisection(f, a, b, tol): \n",
        "    \n",
        "    if np.sign(f(a)) == np.sign(f(b)):\n",
        "        raise Exception(\n",
        "         \"The scalars a and b do not bound a root\")\n",
        "\n",
        "    m = (a + b)/2\n",
        "    \n",
        "    if np.abs(f(m)) < tol:\n",
        "        return m\n",
        "    elif np.sign(f(a)) == np.sign(f(m)):\n",
        "        return my_bisection(f, m, b, tol)\n",
        "    elif np.sign(f(b)) == np.sign(f(m)):\n",
        "        return my_bisection(f, a, m, tol)\n"
      ],
      "metadata": {
        "id": "TWF7mZuYHFx3"
      },
      "execution_count": 3,
      "outputs": []
    },
    {
      "cell_type": "markdown",
      "source": [
        "The code above is a skeleton that asks for the function, a endpoint, b endpoint, and tolerance. First it checks if a c exists and then finds a midpoint between endpoints. The midpoint is used in the function and compared against the tolerance. Below is an example of this in use."
      ],
      "metadata": {
        "id": "Rxufr5ijIvJj"
      }
    },
    {
      "cell_type": "code",
      "source": [
        "    f = lambda x: x**2 - 2\n",
        "\n",
        "    r1 = my_bisection(f, 0, 2, 0.1)\n",
        "    print(\"r1 =\", r1)\n",
        "    r01 = my_bisection(f, 0, 2, 0.01)\n",
        "    print(\"r01 =\", r01)\n",
        "\n",
        "    print(\"f(r1) =\", f(r1))\n",
        "    print(\"f(r01) =\", f(r01))"
      ],
      "metadata": {
        "colab": {
          "base_uri": "https://localhost:8080/"
        },
        "id": "70dyceLIImRr",
        "outputId": "de4a4f14-439a-4ce2-c5db-464f2fc837a0"
      },
      "execution_count": 4,
      "outputs": [
        {
          "output_type": "stream",
          "name": "stdout",
          "text": [
            "r1 = 1.4375\n",
            "r01 = 1.4140625\n",
            "f(r1) = 0.06640625\n",
            "f(r01) = -0.00042724609375\n"
          ]
        }
      ]
    },
    {
      "cell_type": "markdown",
      "source": [
        "Python has its own method of root solvin that is part of a package. This is related in the fsolve function."
      ],
      "metadata": {
        "id": "YNgm9txmBMk5"
      }
    },
    {
      "cell_type": "code",
      "source": [
        "from scipy.optimize import fsolve\n",
        "f = lambda x: x**3-100*x**2-x+100\n",
        "\n",
        "fsolve(f, [2, 80])"
      ],
      "metadata": {
        "colab": {
          "base_uri": "https://localhost:8080/"
        },
        "id": "M4tabwnZBXqO",
        "outputId": "6d488209-d342-4348-8a38-6dfcbc9bd8b8"
      },
      "execution_count": 1,
      "outputs": [
        {
          "output_type": "execute_result",
          "data": {
            "text/plain": [
              "array([  1., 100.])"
            ]
          },
          "metadata": {},
          "execution_count": 1
        }
      ]
    }
  ]
}