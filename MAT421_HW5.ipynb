{
  "nbformat": 4,
  "nbformat_minor": 0,
  "metadata": {
    "colab": {
      "name": "MAT421-HW5.ipynb",
      "provenance": []
    },
    "kernelspec": {
      "name": "python3",
      "display_name": "Python 3"
    },
    "language_info": {
      "name": "python"
    }
  },
  "cells": [
    {
      "cell_type": "markdown",
      "source": [
        "The norm of a matrix of a vector is the measure of length. This is prevalent in physics where there are different lengths for the x and y vectors"
      ],
      "metadata": {
        "id": "Co1bHHZ4vgj0"
      }
    },
    {
      "cell_type": "code",
      "execution_count": 3,
      "metadata": {
        "colab": {
          "base_uri": "https://localhost:8080/"
        },
        "id": "ri1U94PBCDkK",
        "outputId": "e519e88c-f0e6-4580-fbda-ed8763e1e673"
      },
      "outputs": [
        {
          "output_type": "stream",
          "name": "stdout",
          "text": [
            "(1, 5)\n",
            "(4, 1)\n"
          ]
        }
      ],
      "source": [
        "import numpy as np\n",
        "vector_row = np.array([[3, 7, 8, 7, 6]])\n",
        "vector_column = np.array([[5], \n",
        "                          [7], \n",
        "                          [2], \n",
        "                          [9]])\n",
        "print(vector_row.shape)\n",
        "print(vector_column.shape)"
      ]
    },
    {
      "cell_type": "markdown",
      "source": [
        "The Dot Product is used to measure how similarly directed they are. For example, a dot product of two vectors giving a result of 1 shows that they are both aligned."
      ],
      "metadata": {
        "id": "FOf1HWlSD9wv"
      }
    },
    {
      "cell_type": "code",
      "source": [
        "from numpy import arccos, dot\n",
        "\n",
        "v = np.array([[10, 9, 3]])\n",
        "w = np.array([[2, 5, 12]])\n",
        "theta = \\\n",
        "    arccos(dot(v, w.T)/(norm(v)*norm(w)))\n",
        "print(theta)"
      ],
      "metadata": {
        "id": "mRZ5vAGpENe6"
      },
      "execution_count": null,
      "outputs": []
    },
    {
      "cell_type": "markdown",
      "source": [
        "The Cross Product of two vectors is used when they are perpendicular to each other."
      ],
      "metadata": {
        "id": "Abek-hioEOul"
      }
    },
    {
      "cell_type": "code",
      "source": [
        "v = np.array([[0, 2, 0]])\n",
        "w = np.array([[3, 0, 0]])\n",
        "print(np.cross(v, w))"
      ],
      "metadata": {
        "id": "6gr8n213EbDx"
      },
      "execution_count": null,
      "outputs": []
    },
    {
      "cell_type": "markdown",
      "source": [
        "Matrices are larger arrays and can be an x by y dimiension. Matrix multiplication can only occur with an x by y times a y by x matrix. Matrices are linear combinations of each row/column. This is also the case for matrix multiplication between an n by 1 matrix. Linear Combinations of the matrix allow you to rewrite the matrix into an equation, taking the coefficient form the the matric and denoting it with a varible. The determinant is the cross multiplication of a 2 by 2 matrix. For matrices higher order than this a special set is invloved."
      ],
      "metadata": {
        "id": "Zf_w1cwMEvhH"
      }
    }
  ]
}