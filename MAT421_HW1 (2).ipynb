{
  "nbformat": 4,
  "nbformat_minor": 0,
  "metadata": {
    "colab": {
      "name": "MAT421-HW1.ipynb",
      "provenance": [],
      "collapsed_sections": []
    },
    "kernelspec": {
      "name": "python3",
      "display_name": "Python 3"
    },
    "language_info": {
      "name": "python"
    }
  },
  "cells": [
    {
      "cell_type": "code",
      "execution_count": 1,
      "metadata": {
        "colab": {
          "base_uri": "https://localhost:8080/"
        },
        "id": "3_jI2VXMHC4B",
        "outputId": "7e09173c-3b51-4f54-e7f1-3103cb18e732"
      },
      "outputs": [
        {
          "output_type": "execute_result",
          "data": {
            "text/plain": [
              "False"
            ]
          },
          "metadata": {},
          "execution_count": 1
        }
      ],
      "source": [
        "5.0 - 4.95 == 0.05\n"
      ]
    },
    {
      "cell_type": "markdown",
      "source": [
        "This is an example of the round off error that is present in python and other languages. The floating point is not exactly represented in number, so when used in arithmetic the slight approximation causes the discrepancy. The Round function can be used compare the values as the slight approximation is taken into account."
      ],
      "metadata": {
        "id": "9qDas1lsiDxl"
      }
    },
    {
      "cell_type": "code",
      "source": [
        "round(0.1 + 0.5 + 0.6, 5)  == round(1.2, 5)"
      ],
      "metadata": {
        "colab": {
          "base_uri": "https://localhost:8080/"
        },
        "id": "gNwW0bhCKxvr",
        "outputId": "d3d2b2aa-d4e8-45d1-c2ab-602416f72845"
      },
      "execution_count": 1,
      "outputs": [
        {
          "output_type": "execute_result",
          "data": {
            "text/plain": [
              "True"
            ]
          },
          "metadata": {},
          "execution_count": 1
        }
      ]
    },
    {
      "cell_type": "markdown",
      "source": [
        "Computers use Binary, or Base2, to simplify the numbers. These bits are represented as 0 and 1, with each number represented as a power of 2. For example, 43 in Base10 would  be: 32+8+2+1 = 2^5 + 0^4 + 2^3 + 0^2 + 2^1 + 2^0 = 101011"
      ],
      "metadata": {
        "id": "qetOCXp21wV3"
      }
    },
    {
      "cell_type": "markdown",
      "source": [
        "A float can then be represented as:\n",
        "\n",
        "n=(−1)s2e−1023(1+f). (for 64-bit)"
      ],
      "metadata": {
        "id": "H9qVjjqYzMUv"
      }
    },
    {
      "cell_type": "code",
      "source": [
        "import numpy as np\n",
        "np.spacing(1e9)"
      ],
      "metadata": {
        "colab": {
          "base_uri": "https://localhost:8080/"
        },
        "id": "gs96iQxoxc5a",
        "outputId": "53caa71b-a25a-4bfb-ab43-99b4468b3fcb"
      },
      "execution_count": 2,
      "outputs": [
        {
          "output_type": "execute_result",
          "data": {
            "text/plain": [
              "1.1920928955078125e-07"
            ]
          },
          "metadata": {},
          "execution_count": 2
        }
      ]
    },
    {
      "cell_type": "markdown",
      "source": [
        "The spacing function demonstrates the gap present in between the fraction of the float. The fraction is between 1 and 2 and because there are only 52 bits associated with it, there is a gap or spacing associated with each number. If you were to add or subtract less than half of the 'gap' value, then it would not cause the actual nubmer to change as you can see below.\n",
        "\n"
      ],
      "metadata": {
        "id": "LdObxPmtxp3Y"
      }
    },
    {
      "cell_type": "code",
      "source": [
        "1e9 == (1e9 + np.spacing(1e9)/3)"
      ],
      "metadata": {
        "colab": {
          "base_uri": "https://localhost:8080/"
        },
        "id": "j5NVoD6NxnOg",
        "outputId": "4e06617a-f4d0-4314-bc52-f2a868c20a56"
      },
      "execution_count": 3,
      "outputs": [
        {
          "output_type": "execute_result",
          "data": {
            "text/plain": [
              "True"
            ]
          },
          "metadata": {},
          "execution_count": 3
        }
      ]
    }
  ]
}