{
  "nbformat": 4,
  "nbformat_minor": 0,
  "metadata": {
    "colab": {
      "name": "MAT421-HW10.ipynb",
      "provenance": []
    },
    "kernelspec": {
      "name": "python3",
      "display_name": "Python 3"
    },
    "language_info": {
      "name": "python"
    }
  },
  "cells": [
    {
      "cell_type": "markdown",
      "source": [
        "A Differential Equation, commonly described as an ODE, is an equation that relates one function and its derivative together. Similarly, there can be partial differential equations in whicht he partial derivative is present in the equation. One common aspect on ODE's are the addition of particular solutions and initial values. These are used to find the general solution."
      ],
      "metadata": {
        "id": "loGLrOuMa3RO"
      }
    },
    {
      "cell_type": "markdown",
      "source": [
        "As ODE's are first order, a concept called Reduction of Order is used to reduce the order of higher order equations. In this, a second order differential equation can be reduced down to first order while keeping its properties of second order. A state function is used to relate the order of the function and that variable is then brought to its original order. A matrix is then used to carry all the terms in that variable."
      ],
      "metadata": {
        "id": "_fH9oKQrbgPa"
      }
    },
    {
      "cell_type": "markdown",
      "source": [
        "This state function can be approximated using the Euler Method. Essentially it relates e and the intial value problem to the original function. An example is displayed below."
      ],
      "metadata": {
        "id": "t7GLAIEYcON0"
      }
    },
    {
      "cell_type": "code",
      "source": [
        "import numpy as np\n",
        "import matplotlib.pyplot as plt\n",
        "\n",
        "plt.style.use('seaborn-poster')\n",
        "%matplotlib inline\n",
        "\n",
        "# Define parameters\n",
        "f = lambda t, s: np.exp(-t) # ODE\n",
        "h = 0.1 # Step size\n",
        "t = np.arange(0, 1 + h, h) # Numerical grid\n",
        "s0 = -1 # Initial Condition\n",
        "\n",
        "# Explicit Euler Method\n",
        "s = np.zeros(len(t))\n",
        "s[0] = s0\n",
        "\n",
        "for i in range(0, len(t) - 1):\n",
        "    s[i + 1] = s[i] + h*f(t[i], s[i])\n",
        "\n",
        "plt.figure(figsize = (12, 8))\n",
        "plt.plot(t, s, 'bo--', label='Approximate')\n",
        "plt.plot(t, -np.exp(-t), 'g', label='Exact')\n",
        "plt.title('Approximate and Exact Solution \\\n",
        "for Simple ODE')\n",
        "plt.xlabel('t')\n",
        "plt.ylabel('f(t)')\n",
        "plt.grid()\n",
        "plt.legend(loc='lower right')\n",
        "plt.show()"
      ],
      "metadata": {
        "id": "XW58-EO9cO9y"
      },
      "execution_count": null,
      "outputs": []
    }
  ]
}