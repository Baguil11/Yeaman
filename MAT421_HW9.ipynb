{
  "nbformat": 4,
  "nbformat_minor": 0,
  "metadata": {
    "colab": {
      "name": "MAT421-HW9.ipynb",
      "provenance": []
    },
    "kernelspec": {
      "name": "python3",
      "display_name": "Python 3"
    },
    "language_info": {
      "name": "python"
    }
  },
  "cells": [
    {
      "cell_type": "markdown",
      "source": [
        "The Simpson's Rule is another method that can be used to find the area under the curve. The primary coefficient h/3 employs the height of the initial curve."
      ],
      "metadata": {
        "id": "pg4q87e1kDuE"
      }
    },
    {
      "cell_type": "code",
      "execution_count": null,
      "metadata": {
        "id": "x15N5llll36l"
      },
      "outputs": [],
      "source": [
        "import numpy as np\n",
        "\n",
        "a = 0\n",
        "b = np.pi\n",
        "n = 11\n",
        "h = (b - a) / (n - 1)\n",
        "x = np.linspace(a, b, n)\n",
        "f = np.sin(x)\n",
        "\n",
        "I_simp = (h/3) * (f[0] + 2*sum(f[:n-2:2]) \\\n",
        "            + 4*sum(f[1:n-1:2]) + f[n-1])\n",
        "err_simp = 2 - I_simp\n",
        "\n",
        "print(I_simp)\n",
        "print(err_simp)"
      ]
    },
    {
      "cell_type": "markdown",
      "source": [
        "The trapezoidal method is also available as cumtrapz. This function allows you to find the trapezoidal method in a simpler format. Below has the exact solution and the approximate one."
      ],
      "metadata": {
        "id": "0OdMToCNk739"
      }
    },
    {
      "cell_type": "code",
      "source": [
        "from scipy.integrate import cumtrapz\n",
        "import matplotlib.pyplot as plt\n",
        "\n",
        "%matplotlib inline\n",
        "plt.style.use('seaborn-poster')\n",
        "\n",
        "x = np.arange(0, np.pi, 0.01)\n",
        "F_exact = -np.cos(x)\n",
        "F_approx = cumtrapz(np.sin(x), x)\n",
        "\n",
        "plt.figure(figsize = (10,6))\n",
        "plt.plot(x, F_exact)\n",
        "plt.plot(x[1::], F_approx)\n",
        "plt.grid()\n",
        "plt.tight_layout()\n",
        "plt.title('$F(x) = \\int_0^{x} sin(y) dy$')\n",
        "plt.xlabel('x')\n",
        "plt.ylabel('f(x)')\n",
        "plt.legend(['Exact with Offset', 'Approx'])\n",
        "plt.show()"
      ],
      "metadata": {
        "id": "IrBbfzBgk8YN"
      },
      "execution_count": null,
      "outputs": []
    }
  ]
}